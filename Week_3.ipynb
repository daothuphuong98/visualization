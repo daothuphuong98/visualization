{
  "nbformat": 4,
  "nbformat_minor": 0,
  "metadata": {
    "colab": {
      "name": "Week 3.ipynb",
      "provenance": [],
      "authorship_tag": "ABX9TyOnfxn1g1Iu2cp6t/3N687o"
    },
    "kernelspec": {
      "name": "python3",
      "display_name": "Python 3"
    },
    "language_info": {
      "name": "python"
    }
  },
  "cells": [
    {
      "cell_type": "code",
      "metadata": {
        "id": "aP0w2LbMzgxy"
      },
      "source": [
        "import pandas as pd\n",
        "import re"
      ],
      "execution_count": 1,
      "outputs": []
    },
    {
      "cell_type": "code",
      "metadata": {
        "id": "x995rial52Ri"
      },
      "source": [
        "import warnings\n",
        "warnings.filterwarnings('ignore')"
      ],
      "execution_count": 5,
      "outputs": []
    },
    {
      "cell_type": "code",
      "metadata": {
        "id": "qxp6iA3OzrdH"
      },
      "source": [
        "df3 = pd.read_csv('Filename.csv')"
      ],
      "execution_count": 2,
      "outputs": []
    },
    {
      "cell_type": "code",
      "metadata": {
        "colab": {
          "base_uri": "https://localhost:8080/"
        },
        "id": "Qb1lXsiWz3El",
        "outputId": "dd094b8b-540a-42c2-8e88-d1958da8cb19"
      },
      "source": [
        "((df3['magType'] == 'ml') & (df3['type'] == 'explosion')).sum()"
      ],
      "execution_count": 3,
      "outputs": [
        {
          "output_type": "execute_result",
          "data": {
            "text/plain": [
              "79"
            ]
          },
          "metadata": {},
          "execution_count": 3
        }
      ]
    },
    {
      "cell_type": "code",
      "metadata": {
        "colab": {
          "base_uri": "https://localhost:8080/"
        },
        "id": "otaUEhtlz39v",
        "outputId": "e607451d-25b5-492f-dcab-d35262382fa9"
      },
      "source": [
        "alaska = df3[df3['place'].str.contains('Alaska')]\n",
        "alaska['dist'] = alaska.loc[:,'place'].apply(lambda x: int(re.findall(r'[\\d]+', x)[0]) if re.findall(r'[\\d]+', x) else 0)\n",
        "alaska.loc[alaska['dist'].lt(100), 'mag'].mean()"
      ],
      "execution_count": 6,
      "outputs": [
        {
          "output_type": "execute_result",
          "data": {
            "text/plain": [
              "1.3744199088678577"
            ]
          },
          "metadata": {},
          "execution_count": 6
        }
      ]
    },
    {
      "cell_type": "code",
      "metadata": {
        "colab": {
          "base_uri": "https://localhost:8080/",
          "height": 142
        },
        "id": "upoteg115BNQ",
        "outputId": "95f62b5a-5204-430f-b050-6094d8818bfa"
      },
      "source": [
        "df3['date'] = pd.to_datetime(df3['time'], unit='ms')\n",
        "df3.groupby(df3['date'].dt.quarter).agg({'mag':'mean'})"
      ],
      "execution_count": 21,
      "outputs": [
        {
          "output_type": "execute_result",
          "data": {
            "text/html": [
              "<div>\n",
              "<style scoped>\n",
              "    .dataframe tbody tr th:only-of-type {\n",
              "        vertical-align: middle;\n",
              "    }\n",
              "\n",
              "    .dataframe tbody tr th {\n",
              "        vertical-align: top;\n",
              "    }\n",
              "\n",
              "    .dataframe thead th {\n",
              "        text-align: right;\n",
              "    }\n",
              "</style>\n",
              "<table border=\"1\" class=\"dataframe\">\n",
              "  <thead>\n",
              "    <tr style=\"text-align: right;\">\n",
              "      <th></th>\n",
              "      <th>mag</th>\n",
              "    </tr>\n",
              "    <tr>\n",
              "      <th>date</th>\n",
              "      <th></th>\n",
              "    </tr>\n",
              "  </thead>\n",
              "  <tbody>\n",
              "    <tr>\n",
              "      <th>3</th>\n",
              "      <td>1.466735</td>\n",
              "    </tr>\n",
              "    <tr>\n",
              "      <th>4</th>\n",
              "      <td>1.536045</td>\n",
              "    </tr>\n",
              "  </tbody>\n",
              "</table>\n",
              "</div>"
            ],
            "text/plain": [
              "           mag\n",
              "date          \n",
              "3     1.466735\n",
              "4     1.536045"
            ]
          },
          "metadata": {},
          "execution_count": 21
        }
      ]
    }
  ]
}